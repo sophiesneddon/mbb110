{
 "cells": [
  {
   "cell_type": "markdown",
   "id": "acdd9e9b-ef8a-4c6a-9284-1bcd7e48a241",
   "metadata": {},
   "source": [
    "# Lab 1\n",
    "\n",
    "## Part 3 - Getting to know R\n",
    "\n",
    "This is definitely information overload by now, so we will keep this section short. I wanted to introduce you to the third language of this session, R. The second half of the course will be performed in R. Python is great for reading in and manipulating data, but R is great for analyses and visualizations. You can do the same types of things in python and R (the semantics are the same) but the way you do them differs (the syntax is different).\n",
    "\n",
    "### Operators\n",
    "\n",
    "We will cover this more in lecture 3, but to illustrate the basic operations of R, see the table below.\n",
    "\n",
    "| Operator | Name | Example |\n",
    "| :-: | :-: | :-: |\n",
    "| `+` | Addition | `x + y` |\n",
    "| `-` | Subtraction | `x - y` |\n",
    "| `*` | Multiplication | `x * y` |\n",
    "| `/` | Division | `x - y` |\n",
    "| `^` | Exponentiation | `x ^ y` |\n",
    "\n",
    "The reason I want to point this out is because of the last example we saw in part 2. In python, you could concatenate two strings together using `+`. **You cannot do this in R**. \n"
   ]
  },
  {
   "cell_type": "code",
   "execution_count": null,
   "id": "acd781fd-c203-4220-a38c-75ae295ac4b9",
   "metadata": {},
   "outputs": [],
   "source": [
    "this_string = \"ATT\" + \"TAG\"\n",
    "print(this_string)"
   ]
  },
  {
   "cell_type": "markdown",
   "id": "bdd9cdbf-182d-4310-9f7e-653d2a07efa6",
   "metadata": {},
   "source": [
    "## Get started on your homework!\n",
    "\n",
    "## [Click here to go to the homework assignment](lab01_homework.ipynb)"
   ]
  }
 ],
 "metadata": {
  "kernelspec": {
   "display_name": "R",
   "language": "R",
   "name": "ir"
  },
  "language_info": {
   "codemirror_mode": "r",
   "file_extension": ".r",
   "mimetype": "text/x-r-source",
   "name": "R",
   "pygments_lexer": "r",
   "version": "4.1.3"
  }
 },
 "nbformat": 4,
 "nbformat_minor": 5
}
