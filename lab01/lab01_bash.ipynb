{
 "cells": [
  {
   "cell_type": "markdown",
   "id": "5b0747e6-710e-43d0-afa8-4d08d3209cc0",
   "metadata": {},
   "source": [
    "# Lab 1 - Getting to know bash"
   ]
  },
  {
   "cell_type": "markdown",
   "id": "5fccb7ec-5af3-474c-8f1c-0baa9b94658b",
   "metadata": {},
   "source": [
    "## Part 1 - Let's get into the bash stuff\n",
    "### Navigation\n",
    "\n",
    "Each  user is given a home directory on the course server under `/local-scratch/localhome/`. For example, the instructor's is `/local-scratch/localhome/sasneddo/` and the TA's is `/local-scratch/localhome/whatever/`. Using the Terminal window, you can find your current working directory with the bash `pwd` command (print working directory). The table below provides a few basic commands for navigating the file system in bash.\n",
    "\n",
    "| Bash | Effect |\n",
    "| :-: | - |\n",
    "| `pwd` | Print/return the current working directory |\n",
    "| `cd DIR` | Change to directory specified by DIR |\n",
    "| `ls DIR` | Get a list of all the files in DIR |\n",
    "| `ls` | Get a list of all the files in your working directory |\n",
    "| `mkdir DIR` | Create a new directory named DIR (can be full or relative) | \n",
    "| `echo text` | Print text to the standard output (screen)|\n",
    "\n",
    "**TASK:** Let's see where we are right now. In the code chunk below, type the command to print the current working directory, then run the code block using the run at the top of the page."
   ]
  },
  {
   "cell_type": "code",
   "execution_count": null,
   "id": "c9086908-9f41-4e94-b658-b1ed31c936d4",
   "metadata": {
    "tags": []
   },
   "outputs": [],
   "source": [
    "# write your command in the line below\n"
   ]
  },
  {
   "cell_type": "markdown",
   "id": "8940f02a-0901-4650-b2a3-d051316a27e4",
   "metadata": {},
   "source": [
    "You may have noticed in the code chunk above, I used a hashtag. These aren't just cool ways to highlight interesting themes on Twitter or Instagram; they actually have a purpose in programming. The hashtag allows us to write comments. These are designed to be descriptive lines within your code that explain something. In bash, python and R, all lines with a hashtag at the start are comments. Any line you write within a code block or a piece of programming code that starts with a hashtag will not be run. They are a way to annotate your code.\n",
    "\n",
    "```bash\n",
    "# this is a comment\n",
    "echo This is actually code as there is no hashtag\n",
    "```\n",
    "\n",
    "In the code block below, try writing a comment, then listing all of the files in the current directory (note: the current directory can be accessed using `.`)"
   ]
  },
  {
   "cell_type": "code",
   "execution_count": null,
   "id": "7545fde0-7dfc-45c1-865d-14fd5add5a4d",
   "metadata": {
    "tags": []
   },
   "outputs": [],
   "source": [
    "\n"
   ]
  },
  {
   "cell_type": "markdown",
   "id": "2b9d4f66-4172-493b-b41d-a2db9c66eec7",
   "metadata": {},
   "source": [
    "I mentioned that using `.` allows you to refer to the current working directory (the one you are in right now). You can also access other directories using similar references. To access the directory above the one you are in now, you can use `..`.\n",
    "\n",
    "You should see that we have some folders, one called `folder01` and the other called `folder02`. How do we know they are folders? I made it kind of obvious for you. But there are other folders there, too. We can modify the use of the `ls` command with a flag - an option that tells us how we want to run the command. The `-l` flag will list the files and folders in the long format, giving you much more information.\n",
    "\n",
    "```bash\n",
    "ls -l\n",
    "```\n",
    "\n",
    "Run the code chunk below to see this in action."
   ]
  },
  {
   "cell_type": "code",
   "execution_count": null,
   "id": "684ac775-13e9-4888-b156-2c5d51408fe4",
   "metadata": {
    "tags": []
   },
   "outputs": [],
   "source": [
    "ls -l"
   ]
  },
  {
   "cell_type": "markdown",
   "id": "635be172-e6dc-4a37-a699-068de54986ca",
   "metadata": {
    "tags": []
   },
   "source": [
    "Do you notice that some of the lines begin with the letter `d`? This shows us that they are directories. Anything without a d is a file or a program that you can run. More on that later.\n",
    "\n",
    "Using the reference table above that showed common bash commands for navigation, create a line of code in the next block that will move you into the folder `folder01` and list the files contained there."
   ]
  },
  {
   "cell_type": "code",
   "execution_count": null,
   "id": "b476a6f8-657b-47be-83cb-4e5c068fd83a",
   "metadata": {
    "tags": []
   },
   "outputs": [],
   "source": [
    "# write your code in the next line\n"
   ]
  },
  {
   "cell_type": "markdown",
   "id": "4f6dda8e-895f-43d5-b3d0-3282d54aeb4d",
   "metadata": {},
   "source": [
    "When you change directory using the command you used in the code block above, that's where you stay until you specify otherwise. Use the next code block to get back to the directory above (remember what I said about using `..` earlier). "
   ]
  },
  {
   "cell_type": "code",
   "execution_count": null,
   "id": "aec4a97a-24e3-48b7-9a58-65c3e4c1ecb5",
   "metadata": {
    "tags": []
   },
   "outputs": [],
   "source": [
    "# write your code in the next line\n"
   ]
  },
  {
   "cell_type": "markdown",
   "id": "fcb9cbac-7459-47e8-b25d-2c6049a56109",
   "metadata": {},
   "source": [
    "Now you can check where you are by using the `pwd` command."
   ]
  },
  {
   "cell_type": "code",
   "execution_count": null,
   "id": "51a6a5f1-468c-40e9-9022-db18b8f657f6",
   "metadata": {
    "tags": []
   },
   "outputs": [],
   "source": [
    "pwd"
   ]
  },
  {
   "cell_type": "markdown",
   "id": "4bd45014-7f0a-486e-98c9-ceecb5f2fbde",
   "metadata": {},
   "source": [
    "__NOTE:__ If you ever want to get back to your base home directory, you can use the symbol `~`. For instance, you can use the command:\n",
    "\n",
    "```bash\n",
    "cd ~\n",
    "```\n",
    "\n",
    "which will take you back to your home directory (that's what the `~` means). You can test this by adding a code block below, or just keep this in mind for later. `~` always refers to your base home directory, and will come in handy many, many times during your programming career."
   ]
  },
  {
   "cell_type": "markdown",
   "id": "f05dc89a-7ffa-4ae3-a8e2-1cc0abebd090",
   "metadata": {},
   "source": [
    "### Viewing the contents of files\n",
    "\n",
    "There are many ways to view the contents of files in bash. The following table summarizes them.\n",
    "\n",
    "|Bash Command|Effect|\n",
    "|-|-|\n",
    "|`cat FILE1 FILEN` |print contents of one or more files to STDOUT (i.e. to the terminal)|\n",
    "|`head FILE` | print the first few (10 by default) lines of a file to STDOUT |\n",
    "|`tail FILE` | print the last few (10 by default) lines of a file to STDOUT |\n",
    "|`tail -n NUM FILE` | print the last lines of a file to STDOUT starting at offset NUM |\n",
    "|`mv FILE NEWNAME`|rename or move FILE to NEWNAME|\n",
    "|`less FILE`|open file in a scrollable text viewer (q to exit)|\n",
    "|`wc FILE`|print the tabulation of lines, words and characters to STDOUT|\n",
    "|`cut -f 1,2,N FILE`| Take columns 1,2,N from a delimited file and pass to STDOUT|\n",
    "|`grep PATTERN FILE`| `grep` and `egrep` both search for simple or complex patterns of text in files |\n",
    "\n",
    "In the next code chunk, write code that will navigate to `folder01` and print out the entire contents of the file `file01.txt`. Remember - if you don't know where you are in the file system, you can always use `pwd` to figure that out first."
   ]
  },
  {
   "cell_type": "code",
   "execution_count": null,
   "id": "be3e2927-3b0a-49b2-b33a-493c2d2d5919",
   "metadata": {
    "tags": []
   },
   "outputs": [],
   "source": [
    "# write your code after this comment\n",
    "\n"
   ]
  },
  {
   "cell_type": "markdown",
   "id": "30b9674d-dd46-4cf7-82f3-75f423807e73",
   "metadata": {},
   "source": [
    "In the next code block, write code that will determine how many lines are in the file. __Note:__ while `wc` will print the characters, words and lines to the standard output/screen (STDOUT), you can take a shortcut here by using a flag: `wc -l` (this specifies to print out the line count only). "
   ]
  },
  {
   "cell_type": "code",
   "execution_count": null,
   "id": "6d82fce2-c3a3-423e-8f4b-c7d3fa1aeb01",
   "metadata": {
    "tags": []
   },
   "outputs": [],
   "source": []
  },
  {
   "cell_type": "markdown",
   "id": "1b1d2e34-467c-451f-b357-08e7e49b6149",
   "metadata": {
    "tags": []
   },
   "source": [
    "#### Wait, what on earth is a flag?\n",
    "\n",
    "Flags are a way to customize the output of the particular command we are using. Every command has options. You can find out what they are by using the code:\n",
    "\n",
    "```bash\n",
    "man command\n",
    "```\n",
    "\n",
    "Run the next code block and you can see all the flags for the `wc` command."
   ]
  },
  {
   "cell_type": "code",
   "execution_count": null,
   "id": "c12c2f4f-9f93-46fe-b18a-32f129cabf40",
   "metadata": {
    "tags": []
   },
   "outputs": [],
   "source": [
    "man wc"
   ]
  },
  {
   "cell_type": "markdown",
   "id": "5a454ae5-4077-4216-b4ac-71e59c642858",
   "metadata": {},
   "source": [
    "__TASK:__ Using what you have learned from the `man` page for `wc`, write a line of code in the next code block that will display the number of words in the file `file01.txt`."
   ]
  },
  {
   "cell_type": "code",
   "execution_count": null,
   "id": "babd318d-bcef-4a49-9a3f-0f6cf7cb1462",
   "metadata": {},
   "outputs": [],
   "source": [
    "# write your code in the next line\n"
   ]
  },
  {
   "cell_type": "markdown",
   "id": "13230cb6-073c-4e1a-9e05-ddef6d1c313d",
   "metadata": {},
   "source": [
    "### Creating and modifying files\n",
    "\n",
    "Obviously, a file system would be nothing if we could only view files. Thankfully, we have the ability to create and edit files. \n",
    "\n",
    "Here, I need to introduce you to a couple of useful commands that will allow you to print things to files. These commands are summarized below:\n",
    "\n",
    "|Bash Command|Effect|\n",
    "|-|-|\n",
    "|command `>` filename| print the output of the left side of `>` to a brand new filename specified on the right side|\n",
    "|command `>>` filename| append output of the left side of `>>` to a brand new or existing filename specified on the right side |\n",
    "\n",
    "You can try it using the following code. \n",
    "\n",
    "```bash\n",
    "echo \"Hello terminal!\" > EMPTY.txt\n",
    "echo $(date) >> EMPTY.txt\n",
    "```"
   ]
  },
  {
   "cell_type": "code",
   "execution_count": null,
   "id": "fe5b1c97-339b-4ee3-8180-d11c71ae7cd9",
   "metadata": {
    "tags": []
   },
   "outputs": [],
   "source": [
    "echo \"Hello terminal!\" > EMPTY.txt\n",
    "echo $(date) >> EMPTY.txt"
   ]
  },
  {
   "cell_type": "code",
   "execution_count": null,
   "id": "98917d11-a5ff-4cd1-98e3-977d455c8db7",
   "metadata": {
    "tags": []
   },
   "outputs": [],
   "source": [
    "# check your output using cat\n",
    "cat EMPTY.txt"
   ]
  },
  {
   "cell_type": "markdown",
   "id": "ff716736-8f66-4b9d-bfb8-eb84177effbf",
   "metadata": {
    "tags": []
   },
   "source": [
    "If you tried the above commands using only the `>` you will notice a different output. Try the following commands instead:\n",
    "\n",
    "```bash\n",
    "echo \"Hello terminal!\" > EMPTY.txt\n",
    "echo $(date) > EMPTY.txt\n",
    "```"
   ]
  },
  {
   "cell_type": "code",
   "execution_count": null,
   "id": "d3c42328-6128-4091-95b6-bd4410a93027",
   "metadata": {
    "tags": []
   },
   "outputs": [],
   "source": [
    "echo \"Hello terminal!\" > EMPTY.txt\n",
    "echo $(date) > EMPTY.txt\n",
    "cat EMPTY.txt"
   ]
  },
  {
   "cell_type": "markdown",
   "id": "992ca8d1-5eb5-4b8a-8cc8-32dcdc78b50e",
   "metadata": {},
   "source": [
    "Why did it do this? The `>` operator __always__ creates a brand new file, so it will write over your existing `EMPTY.txt` file. If you want to __add__ to a file, always use the `>>` command. If the file doesn't exist when you use `>>`, it will create it  for you.\n",
    "\n",
    "__TASK:__ Fix the code block above so that both lines are written to the file. The resulting file should only have the two lines.\n",
    "\n",
    "__TASK:__ We want to set up a file that will load every time you open up your bash terminal (we haven't done that but we will get there). We want to create a file called `~/.bash_profile` that contains two lines:\n",
    "\n",
    "```bash\n",
    "source ~/.bashrc\n",
    "DATA=/local-scratch/course_files/MBB243/\n",
    "```\n",
    "\n",
    "__Hint:__ Use the `echo` command on the left side, and the filename `~/.bash_profile` on the right side. Be specific as to whether you use `>` or `>>` with each line. Write your code in the code block below and run it. Check the output using the `cat` command on the new file you have created."
   ]
  },
  {
   "cell_type": "code",
   "execution_count": null,
   "id": "f787b65c-eb74-4f4e-a355-96000875b541",
   "metadata": {},
   "outputs": [],
   "source": [
    "# Write your code here\n",
    "\n"
   ]
  },
  {
   "cell_type": "markdown",
   "id": "5716e259-113f-4478-9093-5423a3cf024c",
   "metadata": {},
   "source": [
    "### Exploring some other commands\n",
    "\n",
    "Let's revisit some of the commands you saw used in class individually. The code below runs the same command and either prints the result out or stores it in a file. You can view the contents of the new file either in the file explorer to the left or by using a bash command (e.g. `cat`). "
   ]
  },
  {
   "cell_type": "code",
   "execution_count": null,
   "id": "1b926cac-abf6-4275-8087-3ca46f41d284",
   "metadata": {},
   "outputs": [],
   "source": [
    "head -n 25 /local-scratch/course_files/MBB110/Sneddon_genotypes.txt\n",
    "# translation:\n",
    "# head: take the first N lines (default is 10 if not specified)\n",
    "# -n 5: specifies to take the first 5 lines instead\n",
    "# the last bit is the full path to the file we want to use as input for the head command\n",
    "# You can save the output you see by \"redirecting\" STDOUT to a file. \n",
    "\n",
    "head -n 25 /local-scratch/course_files/MBB243/Sneddon_genotypes.txt > genotype_head.txt"
   ]
  },
  {
   "cell_type": "markdown",
   "id": "3098643b-49f2-45f9-ad77-7b041a8df8fd",
   "metadata": {},
   "source": [
    "You should have a few lines of genotype information in a new file named `genotype_head.txt`. Do you notice any genotypes in there that look \"off\"? Assuming we wanted to sanity check this whole file for what genotypes exist, we can use a combination the `cut`, `uniq` and `sort` commands (uniq is dumb and only works properly if its input is sorted). The code chunk below does this but uses our smaller file as input for efficiency. The result should be all unique genotypes in that file. "
   ]
  },
  {
   "cell_type": "code",
   "execution_count": null,
   "id": "354dc478-fccb-46f2-8a03-370bd62e6ef1",
   "metadata": {},
   "outputs": [],
   "source": [
    "cut -f 4 genotype_head.txt | sort | uniq"
   ]
  },
  {
   "cell_type": "markdown",
   "id": "81f687cc-0eef-440b-a07d-25ebd2d4a8a2",
   "metadata": {},
   "source": [
    "We can also set variables in bash. Basic variables store a single value that can be changed over time within your program. Creating (or \"declaring\" a new variable is usually coupled with setting it's value. It is common to use a variable to capture or store the output of some other code or a function. Anything that is printed to your screen in Rstudio or shown in the output of your markdown can instead be stored in a variable. Why might we want to do this? Here's an example that we'll use later. The data files that we will use in each lab are all being put in one shared directory on this server:\n",
    "\n",
    "```bash\n",
    "/local-scratch/course_files/MBB110\n",
    "```\n",
    "\n",
    "Do you want to type that whole directory or paste it into your code every time you need to refer to a file there? Me neither! We can instead create a variable that stores that information and use it as a shortcut to represent that path. In bash, here's how we can create a variable named `DATA` and store this information in it. The next few lines show how it can be put to use various ways. This is a bit irrelevant for this directory since we created a symbolic link to it above and that acts as a shortcut but it isn't as versatile. For example, from any working directory, you can use $DATA to refer to that file path but you would need to be in your home directory to use the symbolic link (`files`) or specify the path to that link (`~/files`) if you are in another directory. "
   ]
  },
  {
   "cell_type": "code",
   "execution_count": null,
   "id": "15797b92-a202-44cb-8f1e-ecd6526d91cb",
   "metadata": {},
   "outputs": [],
   "source": [
    "DATA=\"/local-scratch/course_files/MBB110/\" \n",
    "\n",
    "# print the contents of our new variable with the echo command\n",
    "# IMPORTANT: when retrieving the contents of a variable we need to preface it with $\n",
    "echo data path is $DATA\n",
    "echo another way to refer to it is ~/files\n",
    "# how about using it in combination with ls to view what's in the directory?\n",
    "echo contents of the directory:\n",
    "ls -l $DATA\n",
    "echo contents of symbolic link to directory:\n",
    "ls -l ~/files/"
   ]
  },
  {
   "cell_type": "markdown",
   "id": "154dd637-c816-4327-8298-dd77fa2cd2f9",
   "metadata": {
    "tags": []
   },
   "source": [
    "## Part 2 - Let's go into the real world and do a little treasure hunt!\n",
    "\n",
    "So far, we have learned about a few bash commands that are going to make our lives easier when it comes to later labs. However, we have been using the notebook, which isn't really how we would do it in the real world. What we would normally do is use the command line: something we are going to do now.\n",
    "\n",
    "In the top menu bar, click __File__ then choose __New Launcher__. This provides us with access to all of the other good stuff on this server. What we are interested in is found on the bottom of the launcher page: the __Terminal__. Click on the icon shown below to open it up in a new window.\n",
    "\n",
    "\n",
    "![terminal](images/03_terminal.png)\n",
    "\n",
    "When you click to the new window, you will see a prompt with a flashing cursor. This is your command line. The flashing cursor is waiting for you to enter commands. Here's what it might look like:\n",
    "\n",
    "![cmd](images/04_cmd.png)\n",
    "\n",
    "What is the prompt telling you? You will notice that the first part is your computing ID. The `@` symbol is separating your userid from the server that you are currently on. Mine says that I am working on the `mbb-test` server (yours will say `mbb-bioinf`). Then, after a space, it shows `~`. Do you remember what this means? We talked about it earlier. This part of the prompt will always show you what folder you are currently working within. Keep this in mind, as being in the wrong folder is often the cause of many problems in our labs.\n",
    "\n",
    "__TASK:__ Every command that we have practiced in this notebook can be performed on the command line. In your **Terminal** tab, try a few things out:\n",
    "- print your current working directory\n",
    "- list the files in your current directory\n",
    "- change into a subfolder (such as `mbb110`, `lab01` or `folder01` depending on where you are in the file system)\n",
    "- echo some commands to a file\n",
    "\n",
    "Remember that you can switch back to this page for reference.\n",
    "\n",
    "### What's this about a treasure hunt?\n",
    "\n",
    "As a homework task, I have included a little game that will test your skills in navigating the file system in bash. You should not do to this today unless you finish everything else first - you can do this from home later.\n",
    "\n",
    "First, you must understand a couple more concepts that will come in handy:\n",
    "\n",
    "#### Executing (running) files\n",
    "\n",
    "To execute (run) a file in bash, you need to use the `./filename` command. You may find executable files within the game that you need to run, that might offer you some kind of reward. You may wish to run these using the code:\n",
    "\n",
    "```bash\n",
    "./treasure\n",
    "```\n",
    "\n",
    "and then follow the instructions to collect your wealth.\n",
    "\n",
    "#### Setting and accessing variables\n",
    "\n",
    "You will also recieve instructions on how to save your wealth and health points to variables that you can access throughout the minigame. Don't worry too much about what a variable is right now, but for reference, it is simply an identifier that points to a value. You will be asked to use commands such as `EXPORT` to put values into variables. You can find out the contents of any variable using the following code:\n",
    "\n",
    "```bash\n",
    "echo $VARIABLE\n",
    "```\n",
    "\n",
    "In this game, your inventory is stored in a variable called I, and your health in a variable called HP. In your __Terminal__ window (not this window) you can find out your current inventory and health info using the following commands:\n",
    "\n",
    "```bash\n",
    "echo $I\n",
    "echo $HP\n",
    "```\n",
    "\n",
    "#### Now, onto the game!\n",
    "\n",
    "To start the game, navigate in the __Terminal__ window to `~/mbb110/lab01/entrance` and read the scroll that you find there. \n",
    "\n",
    "Play the game for as long or as little as you like until you get a feel for working with bash on the command line. Once you are finished, run the above commands to show your inventory and HP in your __Terminal__ and paste them into the Markdown block below. I will create a leaderboard and post it on Canvas to show the results."
   ]
  },
  {
   "cell_type": "markdown",
   "id": "ea528833-74be-4e71-b1a3-b471ee2e170f",
   "metadata": {
    "tags": []
   },
   "source": [
    "Your final stats:\n",
    "\n"
   ]
  }
 ],
 "metadata": {
  "kernelspec": {
   "display_name": "Bash",
   "language": "bash",
   "name": "bash"
  },
  "language_info": {
   "codemirror_mode": "shell",
   "file_extension": ".sh",
   "mimetype": "text/x-sh",
   "name": "bash"
  }
 },
 "nbformat": 4,
 "nbformat_minor": 5
}
