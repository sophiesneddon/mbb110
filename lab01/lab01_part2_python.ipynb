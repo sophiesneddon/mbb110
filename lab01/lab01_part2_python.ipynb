{
 "cells": [
  {
   "cell_type": "markdown",
   "id": "54cdd356-e3eb-498a-8f3b-85dcddfc2cad",
   "metadata": {},
   "source": [
    "# Lab 1\n",
    "\n",
    "## Part 2 - Getting to know python\n",
    "\n",
    "So far, we have covered the bash basics. This gives you enough information to be able to get around in these notebooks, as well as on the command line (particularly when you complete the homework task). Now, we are going to have a look at python - a different programming language and one that we will be focusing on heavily in the first half of the course.\n",
    "\n",
    "You can do a lot of things with python, as it is a very powerful langauge. Python comes pre-built with base library, which are repositories of functions that you can use to do your work. If that doesn't mean much to you right now, it will do as we move on through the semester.\n",
    "\n",
    "The first and most important thing you need to know about python is that if you want to use any of these functions (and you do, why would you reinvent the wheel?) you need to **import** them first. In the next code chunk, we are going to import a library called **sys** which, as the name suggests, contains many functions that allow you to perform system specific tasks, such as finding your current working directory, or figuring out where your python executable file is. In fact, that's exactly what the code chunk below does."
   ]
  },
  {
   "cell_type": "code",
   "execution_count": null,
   "id": "de46e79c-d5c1-4908-aebf-759a3a5724f7",
   "metadata": {},
   "outputs": [],
   "source": [
    "import sys\n",
    "sys.executable"
   ]
  },
  {
   "cell_type": "markdown",
   "id": "6895ffe7-cc4e-408e-a063-725c7d90a6d2",
   "metadata": {},
   "source": [
    "What you might have noticed from the above code chunk, is that we first imported the sys library using:\n",
    "\n",
    "```python\n",
    "import sys\n",
    "```\n",
    "\n",
    "We then asked python to tell us where the python executable file is (like an `.exe` file on a windows system, or a `.app` on a Mac system). We did that with this line:\n",
    "\n",
    "```python\n",
    "sys.executable\n",
    "```\n",
    "\n",
    "Note that **sys** is the package and **executable** is the function contained in that library. We need to use this way of invoking library-based functions because if we had just used the command:\n",
    "\n",
    "```python\n",
    "executable\n",
    "```\n",
    "\n",
    "python wouldn't have known what you meant.\n",
    "\n",
    "So always remember: `library.function`\n",
    "\n",
    "### Custom libraries\n",
    "\n",
    "Unfortunately, base python doesn't contain a lot of what we need to do our bioinformatics work. Why would it? Python is used the world over for many things, and biology is more of a niche use case. Luckily, the bio community have created a library called **BioPython** that will allow you to access functions that are more applicable to the work that you are doing. And, we have installed it for you!\n",
    "\n",
    "The next code block loads and tests some functionality provided by the BioPython library. "
   ]
  },
  {
   "cell_type": "code",
   "execution_count": null,
   "id": "047176c0-1951-431c-83a0-d9740350cd7d",
   "metadata": {},
   "outputs": [],
   "source": [
    "from Bio.Seq import Seq\n",
    "my_seq = Seq(\"AGTACACTGGT\")\n",
    "complemented_seq = my_seq.complement()\n",
    "str(complemented_seq)"
   ]
  },
  {
   "cell_type": "markdown",
   "id": "37652c24-e74d-4dd4-a2e6-88888c630637",
   "metadata": {},
   "source": [
    "Let's go through this line by line.\n",
    "\n",
    "```python\n",
    "from Bio.Seq import Seq\n",
    "```\n",
    "\n",
    "Here, we imported the library `Seq` from `Bio.Seq` which is part of BioPython.\n",
    "\n",
    "```python\n",
    "my_seq = Seq(\"AGTACACTGGT\")\n",
    "```\n",
    "\n",
    "This will be tricky to wrap your head around if you are brand new to programming. Here, we have declared a variable called `my_seq`. I like to think of variables like buckets - you can call them whatever you want, and you can put whatever you want inside of them. You can also change what's in them.\n",
    "\n",
    "In this case, we have specified a string of nucleotides, and we have wrapped it inside a call to `Seq`. `Seq` is a class object - objects have very specific definitions. In this case, it should be obvious that we have taken our string of nucleotides and converted it to an object of type `Seq`. This allows us further access to all functions that `Seq` objects have available to them. We can now access them simply using our variable name, `my_seq`. \n",
    "\n",
    "```python\n",
    "complemented_seq = my_seq.complement()\n",
    "```\n",
    "\n",
    "Now, we move onto doing what we actually wanted to do, and that is to complement our sequence. We could have done this by hand, but imagine you are working with large FASTA files - you definitely want an easier way of doing this! Now that our sequence has been converted to type `Seq`, we can access the inbuilt functions. One of them is called `complement`.  We store our complemented sequence into a variable called `complemented_seq`\n",
    "\n",
    "```python\n",
    "str(complemented_seq)\n",
    "```\n",
    "\n",
    "Once we have complemented our sequence, we want to convert it back to a simple string. We can do that using the type casting function `str()`. The consequence of performing this type casting and **not** assigning it to a variable means it is just going to print it out to the screen.\n",
    "\n",
    "### Finding out more information about functions\n",
    "\n",
    "Remember how we used `man` in bash to find out information about commands? You can do the same thing in python. The syntax we use is\n",
    "\n",
    "```python\n",
    "?library.function\n",
    "```\n",
    "\n",
    "See it in action below. Run the code chunk to see the information for the `Seq.complement` function."
   ]
  },
  {
   "cell_type": "code",
   "execution_count": null,
   "id": "f6ce6194-e28b-4ccb-85a4-9a7cad96cbd2",
   "metadata": {},
   "outputs": [],
   "source": [
    "?Seq.complement"
   ]
  },
  {
   "cell_type": "markdown",
   "id": "ff559c13-07e6-4ef8-9131-de924180f112",
   "metadata": {},
   "source": [
    "### Python operators\n",
    "\n",
    "You can do even more in python. Operators are a huge part of programming, and there are lots to choose from. We won't go over all of them now, but this link is a good one to bookmark for later: https://www.w3schools.com/python/python_operators.asp\n",
    "\n",
    "For now, I want to focus on the **addition** (`+`) operator, as it is a special case in python. "
   ]
  },
  {
   "cell_type": "code",
   "execution_count": null,
   "id": "f33cf477-3df0-4302-9c16-bd9420c989c9",
   "metadata": {},
   "outputs": [],
   "source": [
    "print(10 + 100)"
   ]
  },
  {
   "cell_type": "markdown",
   "id": "71b27b10-c65a-42b9-90e6-371039a20373",
   "metadata": {},
   "source": [
    "This is pretty straightforward. I have used the `print()` command just to show you that it exists - in these jupyter notebooks, you usually don't need to use it. It's just like `echo` in bash. \n",
    "\n",
    "However, the `+` operator, in python, works on more than just numbers. You can use it to concatenate two strings together."
   ]
  },
  {
   "cell_type": "code",
   "execution_count": null,
   "id": "93953e4f-2a38-4d02-9f21-f8483213ee38",
   "metadata": {},
   "outputs": [],
   "source": [
    "this_string = \"ATT\" + \"TAG\"\n",
    "print(this_string)"
   ]
  },
  {
   "cell_type": "markdown",
   "id": "3de7dc80-8150-4202-b2ff-14cd73637c94",
   "metadata": {},
   "source": [
    "Keep this in mind as we move to part 3.\n",
    "\n",
    "## Go to Part 3 of the lab\n",
    "\n",
    "You are ready to take on part 2 of the lab - getting to know python. \n",
    "\n",
    "## [Click here to go to Lab 1 Part 3](lab01_part3_R.ipynb)"
   ]
  }
 ],
 "metadata": {
  "kernelspec": {
   "display_name": "Python 3 (ipykernel)",
   "language": "python",
   "name": "python3"
  },
  "language_info": {
   "codemirror_mode": {
    "name": "ipython",
    "version": 3
   },
   "file_extension": ".py",
   "mimetype": "text/x-python",
   "name": "python",
   "nbconvert_exporter": "python",
   "pygments_lexer": "ipython3",
   "version": "3.9.16"
  }
 },
 "nbformat": 4,
 "nbformat_minor": 5
}
