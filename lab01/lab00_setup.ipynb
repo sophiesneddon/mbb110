{
 "cells": [
  {
   "cell_type": "markdown",
   "id": "8dd45815-adc9-4990-8333-f7382636bd11",
   "metadata": {},
   "source": [
    "# Lab 0 - Setting up our bash environments"
   ]
  },
  {
   "cell_type": "markdown",
   "id": "e29ade18-80a3-46ae-a6c4-b4c0d034f014",
   "metadata": {},
   "source": [
    "## Preamble: What the heck is this, anyway?\n",
    "\n",
    "This semester, we will be using the Jupyter notebook system to work through our code (at least for the first half of the course). Notebooks are a great way to ensure that you can create reproducible code, so it's a very important system to learn, but it can be confusing at first. \n",
    "\n",
    "You are currently using a notebook! You might notice, when opening this file for the first time, that each section is in it's own little block. Blocks can be used to present textual descriptions (like this one), or code chunks (like some you will come across further down). This specific notebook is set to use __bash__ only, but you will come across __python__ and __R__ notebooks later in this lab.\n",
    "\n",
    "I have explained this already, but for future reference, to run any of the notebook blocks, you just need to click the little play button found in the toolbar above (shown here):\n",
    "\n",
    "![codeblocks](00_run.png)\n",
    "\n",
    "You may notice that there is also a dropdown box in the image that says __Markdown__. That is how you specify that you want to create text without having any code run within a block. There is another option called __Code__ that will, as the name suggests, let you run that block as code. If you are ever having an issue where you can't figure out why your code isn't running, make sure you haven't got that block set to Markdown. \n",
    "\n",
    "The other important icon is the + sign. This will add a code block. The scissors will remove a code block. Try not to use that - if you add extra code blocks by accident, leave them there. It's much safer than accidentally deleting one of the code blocks that I have written for you.\n",
    "\n",
    "If any text does not look like a block - simply double click on it! It's like magic!"
   ]
  },
  {
   "cell_type": "code",
   "execution_count": null,
   "id": "eac6d2f6-acfd-43dd-a8cb-034c59f8aae8",
   "metadata": {},
   "outputs": [],
   "source": []
  }
 ],
 "metadata": {
  "kernelspec": {
   "display_name": "Bash",
   "language": "bash",
   "name": "bash"
  },
  "language_info": {
   "codemirror_mode": "shell",
   "file_extension": ".sh",
   "mimetype": "text/x-sh",
   "name": "bash"
  }
 },
 "nbformat": 4,
 "nbformat_minor": 5
}
