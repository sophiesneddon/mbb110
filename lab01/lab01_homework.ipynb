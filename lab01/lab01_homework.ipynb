{
 "cells": [
  {
   "cell_type": "markdown",
   "id": "15cf80a6-1ac7-4ef3-b4c1-7de499f3ff36",
   "metadata": {},
   "source": [
    "# Homework\n",
    "\n",
    "## Let's go into the real world and do a little treasure hunt!\n",
    "\n",
    "So far, we have learned about a few bash commands that are going to make our lives easier when it comes to later labs. However, we have been using the notebook, which isn't really how we would do it in the real world. What we would normally do is use the command line: something we are going to do now.\n",
    "\n",
    "In the top menu bar, click __File__ then choose __New Launcher__. This provides us with access to all of the other good stuff on this server. What we are interested in is found on the bottom of the launcher page: the __Terminal__. Click on the icon shown below to open it up in a new window.\n",
    "\n",
    "\n",
    "![terminal](images/03_terminal.png)\n",
    "\n",
    "When you click to the new window, you will see a prompt with a flashing cursor. This is your command line. The flashing cursor is waiting for you to enter commands. Here's what it might look like:\n",
    "\n",
    "![cmd](images/04_cmd.png)\n",
    "\n",
    "What is the prompt telling you? You will notice that the first part is your computing ID. The `@` symbol is separating your userid from the server that you are currently on. Mine says that I am working on the `mbb-test` server (yours will say `mbb-bioinf`). Then, after a space, it shows `~`. Do you remember what this means? We talked about it earlier. This part of the prompt will always show you what folder you are currently working within. Keep this in mind, as being in the wrong folder is often the cause of many problems in our labs.\n",
    "\n",
    "__TASK:__ Every command that we have practiced in this notebook can be performed on the command line. In your **Terminal** tab, try a few things out:\n",
    "- print your current working directory\n",
    "- list the files in your current directory\n",
    "- change into a subfolder (such as `mbb110`, `lab01` or `folder01` depending on where you are in the file system)\n",
    "- echo some commands to a file\n",
    "\n",
    "Remember that you can switch back to this page for reference.\n",
    "\n",
    "### What's this about a treasure hunt?\n",
    "\n",
    "As a homework task, I have included a little game that will test your skills in navigating the file system in bash. You should not do to this today unless you finish everything else first - you can do this from home later.\n",
    "\n",
    "First, you must understand a couple more concepts that will come in handy:\n",
    "\n",
    "#### Executing (running) files\n",
    "\n",
    "To execute (run) a file in bash, you need to use the `./filename` command. You may find executable files within the game that you need to run, that might offer you some kind of reward. You may wish to run these using the code:\n",
    "\n",
    "```bash\n",
    "./treasure\n",
    "```\n",
    "\n",
    "and then follow the instructions to collect your wealth.\n",
    "\n",
    "#### Setting and accessing variables\n",
    "\n",
    "You will also recieve instructions on how to save your wealth and health points to variables that you can access throughout the minigame. You will be asked to use commands such as `EXPORT` to put values into variables. You can find out the contents of any variable using the following code:\n",
    "\n",
    "```bash\n",
    "echo $VARIABLE\n",
    "```\n",
    "\n",
    "In this game, your inventory is stored in a variable called `I`, and your health in a variable called `HP`. In your __Terminal__ window (not this window) you can find out your current inventory and health info using the following commands:\n",
    "\n",
    "```bash\n",
    "echo $I\n",
    "echo $HP\n",
    "```\n",
    "\n",
    "#### Now, onto the game!\n",
    "\n",
    "To start the game, navigate in the __Terminal__ window to `~/mbb110/lab01/entrance` and read the scroll that you find there. \n",
    "\n",
    "Play the game for as long or as little as you like until you get a feel for working with bash on the command line. Once you are finished, run the above commands to show your inventory and HP in your __Terminal__ and paste them into the Markdown block below. I will create a leaderboard and post it on Canvas to show the results.\n",
    "\n",
    "__NOTE:__ If the markdown box below just looks like text, double click on it."
   ]
  },
  {
   "cell_type": "markdown",
   "id": "1e606e54-2b54-4e53-8eda-28a31749693a",
   "metadata": {},
   "source": [
    "My HP is: \n",
    "\n",
    "My inventory contains: "
   ]
  }
 ],
 "metadata": {
  "kernelspec": {
   "display_name": "Python 3 (ipykernel)",
   "language": "python",
   "name": "python3"
  },
  "language_info": {
   "codemirror_mode": {
    "name": "ipython",
    "version": 3
   },
   "file_extension": ".py",
   "mimetype": "text/x-python",
   "name": "python",
   "nbconvert_exporter": "python",
   "pygments_lexer": "ipython3",
   "version": "3.9.16"
  }
 },
 "nbformat": 4,
 "nbformat_minor": 5
}
