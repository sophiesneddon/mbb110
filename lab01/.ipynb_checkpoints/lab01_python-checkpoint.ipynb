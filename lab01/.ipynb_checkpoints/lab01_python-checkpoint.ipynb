{
 "cells": [
  {
   "cell_type": "markdown",
   "id": "54cdd356-e3eb-498a-8f3b-85dcddfc2cad",
   "metadata": {},
   "source": [
    "# Lab 1 - Getting to know python\n"
   ]
  }
 ],
 "metadata": {
  "kernelspec": {
   "display_name": "Python 3 (ipykernel)",
   "language": "python",
   "name": "python3"
  },
  "language_info": {
   "codemirror_mode": {
    "name": "ipython",
    "version": 3
   },
   "file_extension": ".py",
   "mimetype": "text/x-python",
   "name": "python",
   "nbconvert_exporter": "python",
   "pygments_lexer": "ipython3",
   "version": "3.10.10"
  }
 },
 "nbformat": 4,
 "nbformat_minor": 5
}
