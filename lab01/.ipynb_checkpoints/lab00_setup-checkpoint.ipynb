{
 "cells": [
  {
   "cell_type": "markdown",
   "id": "8dd45815-adc9-4990-8333-f7382636bd11",
   "metadata": {},
   "source": [
    "# Lab 0 - Setting up our bash environments"
   ]
  },
  {
   "cell_type": "markdown",
   "id": "e29ade18-80a3-46ae-a6c4-b4c0d034f014",
   "metadata": {},
   "source": [
    "## Preamble: What the heck is this, anyway?\n",
    "\n",
    "This semester, we will be using the Jupyter notebook system to work through our code (at least for the first half of the course). Notebooks are a great way to ensure that you can create reproducible code, so it's a very important system to learn, but it can be confusing at first. \n",
    "\n",
    "You are currently using a notebook! You might notice, when opening this file for the first time, that each section is in it's own little block. Blocks can be used to present textual descriptions (like this one), or code chunks (like some you will come across further down). This specific notebook is set to use __bash__ only, but you will come across __python__ and __R__ notebooks later in this lab.\n",
    "\n",
    "I have explained this already, but for future reference, to run any of the notebook blocks, you just need to click the little play button found in the toolbar above (shown here):\n",
    "\n",
    "![codeblocks](images/00_run.png)\n",
    "\n",
    "You may notice that there is also a dropdown box in the image that says __Markdown__. That is how you specify that you want to create text without having any code run within a block. There is another option called __Code__ that will, as the name suggests, let you run that block as code. If you are ever having an issue where you can't figure out why your code isn't running, make sure you haven't got that block set to Markdown. \n",
    "\n",
    "The other important icon is the + sign. This will add a code block. The scissors will remove a code block. Try not to use that - if you add extra code blocks by accident, leave them there. It's much safer than accidentally deleting one of the code blocks that I have written for you.\n",
    "\n",
    "If any text does not look like a block - just double click on it! It's like magic! You can hit the **Play** button again to run that block! Try it with this block now and see for yourself."
   ]
  },
  {
   "cell_type": "markdown",
   "id": "3b7ceed0-46cd-4469-b86a-3fd236752c5f",
   "metadata": {},
   "source": [
    "## Setting up your bash environment\n",
    "\n",
    "What is bash? It's an interactive environemnt that offers you direct access to the computer or server you are working on. Right now, you are working on our mbb-bioinf server. This allows you to write and edit code, save it, and access it from home. \n",
    "\n",
    "The following code will ensure you have the necessary configurations so that we can work through lab material this semester. It also creates a symbolic link (like a shortcut) to the directory that contains the course files. If this is nonsense to you, don't worry about it and just read on. "
   ]
  },
  {
   "cell_type": "code",
   "execution_count": null,
   "id": "b278ec7c-7582-456b-9a7e-f8015fdbb75c",
   "metadata": {},
   "outputs": [],
   "source": [
    "if [[ -e ~/.ssh/id_rsa ]]\n",
    "then\n",
    "  echo skipping creation of ~/.ssh/id_rsa\n",
    "else\n",
    "  mkdir ~/.ssh/\n",
    "  chmod 700 ~/.ssh/\n",
    "  echo will create ~/.ssh/id_rsa\n",
    "  ssh-keygen -t rsa -b 4096 -f ~/.ssh/id_rsa -q -P \"\"\n",
    "fi\n",
    "\n",
    "if [[ -e ~/files ]]\n",
    "then\n",
    "  echo skipping creation of ~/files\n",
    "else\n",
    "  ln -s /local-scratch/course_files/MBB110/ ~/files\n",
    "fi"
   ]
  },
  {
   "cell_type": "markdown",
   "id": "e4f3a21a-d771-4c07-b77f-98adb2fe99d1",
   "metadata": {},
   "source": [
    "Running the code chunk above should automatically generate a few things for you if they don't exist already. One of these is a \"key\" that will allow you to securely connect from this server to another specific server. You need this for completing assignments in GitHub. If you haven't already, take a minute to create a new account for yourself at https://github.com/. Either type or paste this into a browser on a separate tab on your computer. Once you have logged in, navigate to settings by clicking on your user icon in the top left of the page, then click on the __Settings__ menu item.\n",
    "\n",
    "![settings](images/01_settings.png)\n",
    "\n",
    "In the menu on the left, select SSH and GPG Keys. On the new page, you will see a green button near the top that says __New SSH Key__ - click on it. You now have a window where you can enter some details. In the __Title__ box, enter a name for your key (it can be anything, but make it something that makes sense like SFU). \n",
    "\n",
    "![ssh](images/02_ssh_keys.png)\n",
    "\n",
    "In the field labeled __Key__ you need to paste the key that the code at the top of this notebook generated. The next code chunk will print that out for you. When you run it, you will see text that doesn't make a lot of sense, but copy and paste it into the __Key__ field, then click __Add SSH key__."
   ]
  },
  {
   "cell_type": "code",
   "execution_count": null,
   "id": "373b4293-8432-4901-b82b-2010b02b641c",
   "metadata": {},
   "outputs": [],
   "source": [
    "cat ~/.ssh/id_rsa.pub"
   ]
  },
  {
   "cell_type": "markdown",
   "id": "e88641ec-7bd4-4216-a799-f754fd3f85e1",
   "metadata": {},
   "source": [
    "Now, let's make sure that git is set up properly on your end. You need to modify the next code block so that it contains the information that is relevant to your specific GitHub account. The commands look like this:\n",
    "\n",
    "```bash\n",
    "git config --global user.name 'Jane Doe'\n",
    "git config --global user.email 'jane@example.com'\n",
    "```\n",
    "\n",
    "Change the code to match your GitHub user account settings. Instead of __Jane Doe__ you should add your GitHub username. Instead of __jane@example.com__ you should add the email address that you used when you signed up for GitHub. Modify the code in the block below, then run the block."
   ]
  },
  {
   "cell_type": "code",
   "execution_count": null,
   "id": "325232a6-760a-496a-bb70-ac08aaafdcf2",
   "metadata": {},
   "outputs": [],
   "source": [
    "git config --global user.name 'Jane Doe'\n",
    "git config --global user.email 'jane@example.com'"
   ]
  },
  {
   "cell_type": "markdown",
   "id": "9d5a0e79-dd30-4a42-aaf3-da82533b88db",
   "metadata": {},
   "source": [
    "Now, you can check to make sure things worked the way you think they did (i.e. check that your information saved properly). You can do this by using the command:\n",
    "\n",
    "```bash\n",
    "git config --global --list\n",
    "```\n",
    "\n",
    "The next code block will run that command. Do it, and check the output. If it looks right, well done! You can move onto the next portion of the lab."
   ]
  },
  {
   "cell_type": "code",
   "execution_count": null,
   "id": "589c473d-0c21-4473-a36b-f399f7ebb7c6",
   "metadata": {},
   "outputs": [],
   "source": [
    "git config --global --list"
   ]
  },
  {
   "cell_type": "markdown",
   "id": "82b47128-71cf-4f72-b9e0-6bd85ae796dd",
   "metadata": {},
   "source": [
    "The second thing that the code chunk at the very top of the page did was create a link in your home folder that points to all the files that we are going to be using this semester. We can check that it worked by using the command `ls` which lists all files in a directory.\n",
    "\n",
    "```bash\n",
    "ls ~/files\n",
    "```\n",
    "\n",
    "Run the next code chunk. If you see a lot of files (with other information as well) then you know that it has worked. If it shows an error, let your instructor or TA know so that we can help."
   ]
  },
  {
   "cell_type": "code",
   "execution_count": null,
   "id": "c0cc1f5e-9784-4c16-a39f-711806884af0",
   "metadata": {},
   "outputs": [],
   "source": [
    "ls ~/files"
   ]
  },
  {
   "cell_type": "markdown",
   "id": "d97b2ee6-2521-44d6-b7db-912576369930",
   "metadata": {},
   "source": [
    "If you succeeded, you can move onto the next portion of the lab. You will be given instructions on how to accept the `lab01` material via Canvas or Slack (or both)."
   ]
  }
 ],
 "metadata": {
  "kernelspec": {
   "display_name": "Bash",
   "language": "bash",
   "name": "bash"
  },
  "language_info": {
   "codemirror_mode": "shell",
   "file_extension": ".sh",
   "mimetype": "text/x-sh",
   "name": "bash"
  }
 },
 "nbformat": 4,
 "nbformat_minor": 5
}
