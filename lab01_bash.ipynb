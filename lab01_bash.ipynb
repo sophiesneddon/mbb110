{
 "cells": [
  {
   "cell_type": "markdown",
   "id": "5b0747e6-710e-43d0-afa8-4d08d3209cc0",
   "metadata": {},
   "source": [
    "# Lab 1 - Getting to know bash"
   ]
  },
  {
   "cell_type": "markdown",
   "id": "e39facc0-bcf3-4596-9498-418668f52926",
   "metadata": {},
   "source": [
    "## Preamble: What the heck is this, anyway?\n",
    "\n",
    "This semester, we will be using the Jupyter notebook system to work through our code (at least for the first half of the course). Notebooks are a great way to ensure that you can create reproducible code, so it's a very important system to learn, but it can be confusing at first. \n",
    "\n",
    "You are currently using a notebook! You might notice, when opening this file for the first time, that each section is in it's own little block. Blocks can be used to present textual descriptions (like this one), or code chunks (like some you will come across further down). This specific notebook is set to use __bash__ only, but you will come across __python__ and __R__ notebooks later in this lab.\n",
    "\n",
    "I have explained this already, but for future reference, to run any of the notebook blocks, you just need to click the little play button found in the toolbar above (shown here):\n",
    "\n",
    "![codeblocks](mbb110/lab01/00_run.png)\n",
    "\n",
    "You may notice that there is also a dropdown box in the image that says __Markdown__. That is how you specify that you want to create text without having any code run within a block. There is another option called __Code__ that will, as the name suggests, let you run that block as code. If you are ever having an issue where you can't figure out why your code isn't running, make sure you haven't got that block set to Markdown. \n",
    "\n",
    "The other important icon is the + sign. This will add a code block. The scissors will remove a code block. Try not to use that - if you add extra code blocks by accident, leave them there. It's much safer than accidentally deleting one of the code blocks that I have written for you."
   ]
  },
  {
   "cell_type": "markdown",
   "id": "541991a8-ba38-4521-95ed-ec643d87bb10",
   "metadata": {
    "tags": []
   },
   "source": [
    "## Part 1 - Annoying set up"
   ]
  },
  {
   "cell_type": "markdown",
   "id": "a313f687-5d15-49f5-ac69-b132c0e1197a",
   "metadata": {},
   "source": [
    "The following code will ensure you have the necessary configurations so that we can work through lab material this semester.. It also creates a symbolic link (like a shortcut) to the directory that contains the course files. If this is nonsense to you, don't worry about it and just read on. "
   ]
  },
  {
   "cell_type": "code",
   "execution_count": 14,
   "id": "d90d620d-3f54-4684-a362-6ad964191f1a",
   "metadata": {
    "tags": []
   },
   "outputs": [
    {
     "name": "stdout",
     "output_type": "stream",
     "text": [
      "skipping creation of /localhome/sasneddo/.ssh/id_rsa\n"
     ]
    }
   ],
   "source": [
    "if [[ -e ~/.ssh/id_rsa ]]\n",
    "then\n",
    "  echo skipping creation of ~/.ssh/id_rsa\n",
    "else\n",
    "  mkdir ~/.ssh/\n",
    "  chmod 700 ~/.ssh/\n",
    "  echo will create ~/.ssh/id_rsa\n",
    "  ssh-keygen -t rsa -b 4096 -f ~/.ssh/id_rsa -q -P \"\"\n",
    "fi"
   ]
  },
  {
   "cell_type": "markdown",
   "id": "8781a72c-895e-4c13-acba-37b25afcec25",
   "metadata": {
    "tags": []
   },
   "source": [
    "The first run of the code chunk above should automatically generate a few things for you. One of these is a \"key\" that will allow you to securely connect from this server to another specific server. You need this for completing assignments in GitHub. If you haven't already, take a minute to create a new account for yourself at https://github.com/. Either type or paste this into a browser on a separate tab on your computer. Once you have logged in, navigate to settings by clicking on your user icon in the top left of the page, then click on the __Settings__ menu item.\n",
    "\n",
    "![settings](mbb110/lab01/01_settings.png)"
   ]
  },
  {
   "cell_type": "markdown",
   "id": "c23671ff-28b9-4a65-ae24-a192ddfd7aa9",
   "metadata": {},
   "source": [
    "In the menu on the left, select SSH and GPG Keys. On the new page, you will see a green button near the top that says __New SSH Key__ - click on it. You now have a window where you can enter some details. In the __Title__ box, enter a name for your key (it can be anything, but make it something that makes sense like SFU). \n",
    "\n",
    "![ssh](mbb110/lab01/02_ssh_keys.png)\n",
    "\n",
    "In the field labeled __Key__ you need to paste the key that the code at the top of this notebook generated. The next code chunk will print that out for you. When you run it, you will see text that doesn't make a lot of sense, but copy and paste it into the __Key__ field, then click __Add SSH key__."
   ]
  },
  {
   "cell_type": "code",
   "execution_count": 2,
   "id": "a7fe7d65-34df-4d3c-b632-6dfb1443444b",
   "metadata": {
    "tags": []
   },
   "outputs": [
    {
     "name": "stdout",
     "output_type": "stream",
     "text": [
      "ssh-rsa AAAAB3NzaC1yc2EAAAADAQABAAACAQDgiDd0fmxjHqm0t6V0aT1La4PRUGTIIkmG8DJ3HN15eGfwG89ZQmV+g3tUu9ppVnWZ3C/kPcKdvFGK0bxWfwTQsL7FhvX2VdVRs2t8IOZoIOi5WNpuzBiEXxk2KZoGKHalU6aAB6APy6rHRGnZw4rU538QtLMOHSNDb3dObgTKtWb3HboQHSWTgkTgcC1/wHd5h0x23cVihPFTxgaX7ifcC7EO45dXjrGSlsymnzzunm5MUIB/ZATcM8bd2qLkl2s0J6GMBvKA7zYmy62cMIfJp1cmQMLoT6lKuR0kKim2xp8TtX2SYK9OnQKsbMZxHrPWwqXIOCGXr1cYCutq8NUZ7fo2FBqnAnfQhB91cHY+T+heeCc20Q2iV3QoXtMQuf687RKWJ0kEcr42Gf8kZiby8RVq3wLnqvXbe838sFcUiBhZwCQEgf4u3eaF3UHaib6Pyg6jehmXRBD5uA7QUney6xA9gC1rkm9fWF/+9mgxJ5xKW5tlIP0UZcn1Y8ICazsih8IBR9Zp2jW2/PPvLI92pI28jsvuLCZovj/Gwz7aSgcj+eYiUBtGpYHjJIcyEfzG/+qOLQs30Uiuxo6QZc9533WkXF7BzoTx9jos1tX4rAo6rzI4GG467VbKz9+iy7aANvslbSezog+mMc4sGj4jF5NvxavN3Ll3lRw86GqW6Q== sasneddo@mbb-test.mbb.sfu.ca\n"
     ]
    }
   ],
   "source": [
    "cat .ssh/id_rsa.pub"
   ]
  },
  {
   "cell_type": "markdown",
   "id": "fada68c5-1082-408e-82fd-411e6aba21c9",
   "metadata": {},
   "source": [
    "Now, let's make sure that git is set up properly on your end. You need to modify the next code block so that it contains the information that is relevant to your specific GitHub account. The commands look like this:\n",
    "\n",
    "```bash\n",
    "git config --global user.name 'Jane Doe'\n",
    "git config --global user.email 'jane@example.com'\n",
    "```\n",
    "\n",
    "Change the code to match your GitHub user account settings. Instead of __Jane Doe__ you should add your GitHub username. Instead of __jane@example.com__ you should add the email address that you used when you signed up for GitHub. Modify the code in the block below, then run the block."
   ]
  },
  {
   "cell_type": "code",
   "execution_count": 3,
   "id": "05630d43-1fc6-4459-94f1-0db9aa2ec587",
   "metadata": {
    "tags": []
   },
   "outputs": [],
   "source": [
    "git config --global user.name 'Jane Doe'\n",
    "git config --global user.email 'jane@example.com'"
   ]
  },
  {
   "cell_type": "markdown",
   "id": "de0a8fce-49a9-4a4d-9116-c82e44e280d4",
   "metadata": {},
   "source": [
    "Now, you can check to make sure things worked the way you think they did (i.e. check that your information saved properly). You can do this by using the command:\n",
    "\n",
    "```bash\n",
    "git config --global --list\n",
    "```\n",
    "\n",
    "The next code block will run that command. Do it, and check the output. If it looks right, well done! You can move onto the next portion of the lab."
   ]
  },
  {
   "cell_type": "code",
   "execution_count": 4,
   "id": "8683b9a2-0940-40b1-b53d-646dd5cd8609",
   "metadata": {
    "tags": []
   },
   "outputs": [
    {
     "name": "stdout",
     "output_type": "stream",
     "text": [
      "user.name=Jane Doe\n",
      "user.email=jane@example.com\n"
     ]
    }
   ],
   "source": [
    "git config --global --list"
   ]
  },
  {
   "cell_type": "markdown",
   "id": "5fccb7ec-5af3-474c-8f1c-0baa9b94658b",
   "metadata": {},
   "source": [
    "## Part 2 - Let's get into the bash stuff\n",
    "### Navigation"
   ]
  },
  {
   "cell_type": "markdown",
   "id": "07fc1711-7b84-4e0b-927c-c2431d2c79a4",
   "metadata": {
    "tags": []
   },
   "source": [
    "Each  user is given a home directory on the course server under `/local-scratch/localhome/`. For example, the instructor's is `/local-scratch/localhome/sasneddo/` and the TA's is `/local-scratch/localhome/whatever/`. Using the Terminal window, you can find your current working directory with the bash `pwd` command (print working directory). The table below provides a few basic commands for navigating the file system in bash.\n",
    "\n",
    "| Bash | Effect |\n",
    "| :-: | - |\n",
    "| `pwd` | Print/return the current working directory |\n",
    "| `cd DIR` | Change to directory specified by DIR |\n",
    "| `ls DIR` | Get a list of all the files in DIR |\n",
    "| `ls` | Get a list of all the files in your working directory |\n",
    "| `mkdir DIR` | Create a new directory named DIR (can be full or relative) | \n",
    "| `echo text` | Print text to the standard output (screen)|\n"
   ]
  },
  {
   "cell_type": "markdown",
   "id": "a35f4565-e42a-4ce7-8057-4150a60ad9ed",
   "metadata": {},
   "source": [
    "Let's see where we are right now. In the code chunk below, type the command to print the current working directory, then run the code block using the run button we saw earlier."
   ]
  },
  {
   "cell_type": "code",
   "execution_count": 5,
   "id": "c9086908-9f41-4e94-b658-b1ed31c936d4",
   "metadata": {
    "tags": []
   },
   "outputs": [],
   "source": [
    "# write your command in the line below\n"
   ]
  },
  {
   "cell_type": "markdown",
   "id": "8940f02a-0901-4650-b2a3-d051316a27e4",
   "metadata": {},
   "source": [
    "You may have noticed in the code chunk above, I used a hashtag. These aren't just cool ways to highlight interesting themes on Twitter or Instagram; they actually have a purpose in programming. The hashtag allows us to write comments. These are designed to be descriptive lines within your code that explain something. In bash, python and R, all lines with a hashtag at the start are comments. Anything you write within a code block or a piece of programming code after that starts with a hashtag will not be run. They are simply a way to annotate your code.\n",
    "\n",
    "```bash\n",
    "# this is a comment\n",
    "echo This is actually code as there is no hashtag\n",
    "```\n",
    "\n",
    "In the code block below, try writing a comment, then listing all of the files in the current directory (note: the current directory can be accessed using `.`)"
   ]
  },
  {
   "cell_type": "code",
   "execution_count": 15,
   "id": "7545fde0-7dfc-45c1-865d-14fd5add5a4d",
   "metadata": {
    "tags": []
   },
   "outputs": [
    {
     "name": "stdout",
     "output_type": "stream",
     "text": [
      "This is actually code as there is no hashtag\n"
     ]
    }
   ],
   "source": []
  },
  {
   "cell_type": "markdown",
   "id": "2b9d4f66-4172-493b-b41d-a2db9c66eec7",
   "metadata": {},
   "source": [
    "I mentioned that using `.` allows you to refer to the current working directory (the one you are in right now). You can also access other directories using similar references. To access the directory above the one you are in now, you can use `..` - however, right now, you can't, as you only have access to your own home directory.\n",
    "\n",
    "Luckily, I have included some folders here for you to test out your navigation skills. Run the following code chunk, and you should see that we have some folders, one called `folder01` and the other called `folder02`. Note, we know they are folders/directories because the very first character on the line is `d` (directory)."
   ]
  },
  {
   "cell_type": "code",
   "execution_count": 6,
   "id": "684ac775-13e9-4888-b156-2c5d51408fe4",
   "metadata": {
    "tags": []
   },
   "outputs": [
    {
     "name": "stdout",
     "output_type": "stream",
     "text": [
      "total 220\n",
      "-rw-r--r--. 1 sasneddo domain users  10579 Jun  5 18:30 00_run.png\n",
      "-rw-r--r--. 1 sasneddo domain users  83477 Jun  5 18:30 01_settings.png\n",
      "-rw-r--r--. 1 sasneddo domain users 117750 Jun  5 18:30 02_ssh_keys.png\n",
      "drwxr-xr-x. 2 sasneddo domain users   4096 Jun  5 19:16 folder01\n",
      "drwxr-xr-x. 2 sasneddo domain users   4096 Jun  5 18:53 folder02\n"
     ]
    }
   ],
   "source": [
    "cd ./mbb110/lab01/\n",
    "ls -l"
   ]
  },
  {
   "cell_type": "markdown",
   "id": "635be172-e6dc-4a37-a699-068de54986ca",
   "metadata": {
    "tags": []
   },
   "source": [
    "Using the reference table above, that showed common bash commands for navigation, create a line of code in the next block that will move you into the folder `folder01` and list the files contained there."
   ]
  },
  {
   "cell_type": "code",
   "execution_count": 7,
   "id": "b476a6f8-657b-47be-83cb-4e5c068fd83a",
   "metadata": {
    "tags": []
   },
   "outputs": [],
   "source": [
    "# write your code in the next line\n"
   ]
  },
  {
   "cell_type": "markdown",
   "id": "4f6dda8e-895f-43d5-b3d0-3282d54aeb4d",
   "metadata": {},
   "source": [
    "When you change directory using the command you used in the code block above, that's where you stay until you specify otherwise. Use the next code block to get back to the directory above (remember what I said about using `..` earlier). "
   ]
  },
  {
   "cell_type": "code",
   "execution_count": 8,
   "id": "aec4a97a-24e3-48b7-9a58-65c3e4c1ecb5",
   "metadata": {
    "tags": []
   },
   "outputs": [],
   "source": [
    "# write your code in the next line\n"
   ]
  },
  {
   "cell_type": "markdown",
   "id": "fcb9cbac-7459-47e8-b25d-2c6049a56109",
   "metadata": {},
   "source": [
    "Now you can check where you are by using the `pwd` command."
   ]
  },
  {
   "cell_type": "code",
   "execution_count": 9,
   "id": "51a6a5f1-468c-40e9-9022-db18b8f657f6",
   "metadata": {
    "tags": []
   },
   "outputs": [
    {
     "name": "stdout",
     "output_type": "stream",
     "text": [
      "/local-scratch/localhome/sasneddo/mbb110/lab01\n"
     ]
    }
   ],
   "source": [
    "pwd"
   ]
  },
  {
   "cell_type": "markdown",
   "id": "4bd45014-7f0a-486e-98c9-ceecb5f2fbde",
   "metadata": {},
   "source": [
    "__NOTE:__ If you ever want to get back to your base home directory, you can use the symbol `~`. For instance, you can use the command:\n",
    "\n",
    "```bash\n",
    "cd ~\n",
    "```\n",
    "\n",
    "Which will take you back to your home directory. You can test this by adding a code block below, or just keep this in mind for later. `~` always refers to your base home directory, and will come in handy many, many times during your programming career."
   ]
  },
  {
   "cell_type": "markdown",
   "id": "f05dc89a-7ffa-4ae3-a8e2-1cc0abebd090",
   "metadata": {},
   "source": [
    "### Viewing the contents of files\n",
    "\n",
    "There are many ways to view the contents of files in bash. The following table summarizes them.\n",
    "\n",
    "|Bash Command|Effect|\n",
    "|-|-|\n",
    "|`cat FILE1 FILEN` |print contents of one or more files to STDOUT (i.e. to the terminal)|\n",
    "|`head FILE` | print the first few (10 by default) lines of a file to STDOUT |\n",
    "|`tail FILE` | print the last few (10 by default) lines of a file to STDOUT |\n",
    "|`tail -n NUM FILE` | print the last lines of a file to STDOUT starting at offset NUM |\n",
    "|`mv FILE NEWNAME`|rename or move FILE to NEWNAME|\n",
    "|`less FILE`|open file in a scrollable text viewer (q to exit)|\n",
    "|`wc FILE`|print the tabulation of lines, words and characters to STDOUT|\n",
    "|`cut -f 1,2,N FILE`| Take columns 1,2,N from a delimited file and pass to STDOUT|\n",
    "|`grep PATTERN FILE`| `grep` and `egrep` both search for simple or complex patterns of text in files |\n",
    "\n",
    "In the next code chunk, write code that will navigate to `folder01` and print out the entire contents of the file `file01.txt`. Remember - if you don't know where you are in the file system, you can always use `pwd` to figure that out first."
   ]
  },
  {
   "cell_type": "code",
   "execution_count": 10,
   "id": "be3e2927-3b0a-49b2-b33a-493c2d2d5919",
   "metadata": {
    "tags": []
   },
   "outputs": [],
   "source": [
    "# write your code after this comment\n",
    "\n"
   ]
  },
  {
   "cell_type": "markdown",
   "id": "30b9674d-dd46-4cf7-82f3-75f423807e73",
   "metadata": {},
   "source": [
    "In the next code block, write code that will determine how many lines are in the file. __Note:__ while `wc` will print the characters, words and lines to the standard output/screen (STDOUT), you can take a shortcut here by using a flag: `wc -l` (this specifies to print out the line count only). "
   ]
  },
  {
   "cell_type": "code",
   "execution_count": null,
   "id": "6d82fce2-c3a3-423e-8f4b-c7d3fa1aeb01",
   "metadata": {
    "tags": []
   },
   "outputs": [],
   "source": []
  },
  {
   "cell_type": "markdown",
   "id": "1b1d2e34-467c-451f-b357-08e7e49b6149",
   "metadata": {
    "tags": []
   },
   "source": [
    "#### Wait, what on earth is a flag?\n",
    "\n",
    "Flags are a way to customize the output of the particular command we are using. Every command has options. You can find out what they are by using the code:\n",
    "\n",
    "```bash\n",
    "man command\n",
    "```\n",
    "\n",
    "Run the next code block and you can see all the flags for the `wc` command."
   ]
  },
  {
   "cell_type": "code",
   "execution_count": 11,
   "id": "c12c2f4f-9f93-46fe-b18a-32f129cabf40",
   "metadata": {
    "tags": []
   },
   "outputs": [
    {
     "name": "stdout",
     "output_type": "stream",
     "text": [
      "WC(1)                            User Commands                           WC(1)\n",
      "\n",
      "\u001b[1mNAME\u001b[0m\n",
      "       wc - print newline, word, and byte counts for each file\n",
      "\n",
      "\u001b[1mSYNOPSIS\u001b[0m\n",
      "       \u001b[1mwc \u001b[22m[\u001b[4mOPTION\u001b[24m]... [\u001b[4mFILE\u001b[24m]...\n",
      "       \u001b[1mwc \u001b[22m[\u001b[4mOPTION\u001b[24m]... \u001b[4m--files0-from=F\u001b[0m\n",
      "\n",
      "\u001b[1mDESCRIPTION\u001b[0m\n",
      "       Print newline, word, and byte counts for each FILE, and a total line if\n",
      "       more than one FILE is specified.  A word is a non-zero-length  sequence\n",
      "       of characters delimited by white space.\n",
      "\n",
      "       With no FILE, or when FILE is -, read standard input.\n",
      "\n",
      "       The  options  below  may  be  used  to select which counts are printed,\n",
      "       always in the following order: newline, word, character, byte,  maximum\n",
      "       line length.\n",
      "\n",
      "       \u001b[1m-c\u001b[22m, \u001b[1m--bytes\u001b[0m\n",
      "              print the byte counts\n",
      "\n",
      "       \u001b[1m-m\u001b[22m, \u001b[1m--chars\u001b[0m\n",
      "              print the character counts\n",
      "\n",
      "       \u001b[1m-l\u001b[22m, \u001b[1m--lines\u001b[0m\n",
      "              print the newline counts\n",
      "\n",
      "       \u001b[1m--files0-from\u001b[22m=\u001b[4mF\u001b[0m\n",
      "              read  input  from the files specified by NUL-terminated names in\n",
      "              file F; If F is - then read names from standard input\n",
      "\n",
      "       \u001b[1m-L\u001b[22m, \u001b[1m--max-line-length\u001b[0m\n",
      "              print the maximum display width\n",
      "\n",
      "       \u001b[1m-w\u001b[22m, \u001b[1m--words\u001b[0m\n",
      "              print the word counts\n",
      "\n",
      "       \u001b[1m--help \u001b[22mdisplay this help and exit\n",
      "\n",
      "       \u001b[1m--version\u001b[0m\n",
      "              output version information and exit\n",
      "\n",
      "\u001b[1mAUTHOR\u001b[0m\n",
      "       Written by Paul Rubin and David MacKenzie.\n",
      "\n",
      "\u001b[1mREPORTING BUGS\u001b[0m\n",
      "       GNU coreutils online help: <https://www.gnu.org/software/coreutils/>\n",
      "       Report wc translation bugs to <https://translationproject.org/team/>\n",
      "\n",
      "\u001b[1mCOPYRIGHT\u001b[0m\n",
      "       Copyright © 2018 Free Software Foundation, Inc.   License  GPLv3+:  GNU\n",
      "       GPL version 3 or later <https://gnu.org/licenses/gpl.html>.\n",
      "       This  is  free  software:  you  are free to change and redistribute it.\n",
      "       There is NO WARRANTY, to the extent permitted by law.\n",
      "\n",
      "\u001b[1mSEE ALSO\u001b[0m\n",
      "       Full documentation at: <https://www.gnu.org/software/coreutils/wc>\n",
      "       or available locally via: info '(coreutils) wc invocation'\n",
      "\n",
      "GNU coreutils 8.30                 July 2018                             WC(1)\n"
     ]
    }
   ],
   "source": [
    "man wc"
   ]
  },
  {
   "cell_type": "markdown",
   "id": "5a454ae5-4077-4216-b4ac-71e59c642858",
   "metadata": {},
   "source": [
    "Using what you have learned from the `man` page for `wc`, write a line of code in the next code block that will display the number of words in the file `file01.txt`."
   ]
  },
  {
   "cell_type": "code",
   "execution_count": 12,
   "id": "babd318d-bcef-4a49-9a3f-0f6cf7cb1462",
   "metadata": {},
   "outputs": [],
   "source": [
    "# write your code in the next line\n"
   ]
  },
  {
   "cell_type": "markdown",
   "id": "13230cb6-073c-4e1a-9e05-ddef6d1c313d",
   "metadata": {},
   "source": [
    "### Creating and modifying files\n",
    "\n",
    "Obviously, a file system would be nothing if we could only view files. Thankfully, we have the ability to create and edit files. \n",
    "\n",
    "Here, I need to introduce you to a couple of useful commands that will allow you to print things to files. These commands are summarized below:\n",
    "\n",
    "|Bash Command|Effect|\n",
    "|-|-|\n",
    "|command `>` filename| print the output of the left side of `>` to a brand new filename specified on the right side|\n",
    "|command `>>` filename| append output of the left side of `>>` to a brand new or existing filename specified on the right side |\n",
    "\n",
    "You can try it using the following code. \n",
    "\n",
    "```bash\n",
    "echo \"Hello terminal!\" > EMPTY.txt\n",
    "echo $(date) >> EMPTY.txt\n",
    "```"
   ]
  },
  {
   "cell_type": "code",
   "execution_count": 21,
   "id": "fe5b1c97-339b-4ee3-8180-d11c71ae7cd9",
   "metadata": {
    "tags": []
   },
   "outputs": [],
   "source": [
    "echo \"Hello terminal!\" > EMPTY.txt\n",
    "echo $(date) >> EMPTY.txt"
   ]
  },
  {
   "cell_type": "code",
   "execution_count": 22,
   "id": "98917d11-a5ff-4cd1-98e3-977d455c8db7",
   "metadata": {
    "tags": []
   },
   "outputs": [
    {
     "name": "stdout",
     "output_type": "stream",
     "text": [
      "Hello terminal!\n",
      "Mon Jun 5 21:14:56 PDT 2023\n"
     ]
    }
   ],
   "source": [
    "# check your output using cat\n",
    "cat EMPTY.txt"
   ]
  },
  {
   "cell_type": "markdown",
   "id": "ff716736-8f66-4b9d-bfb8-eb84177effbf",
   "metadata": {
    "tags": []
   },
   "source": [
    "If you tried the above commands using only the `>` you will notice a different output. Try the following commands instead:\n",
    "\n",
    "```bash\n",
    "echo \"Hello terminal!\" > EMPTY.txt\n",
    "echo $(date) > EMPTY.txt\n",
    "```"
   ]
  },
  {
   "cell_type": "code",
   "execution_count": 23,
   "id": "d3c42328-6128-4091-95b6-bd4410a93027",
   "metadata": {
    "tags": []
   },
   "outputs": [
    {
     "name": "stdout",
     "output_type": "stream",
     "text": [
      "Mon Jun 5 21:14:58 PDT 2023\n"
     ]
    }
   ],
   "source": [
    "echo \"Hello terminal!\" > EMPTY.txt\n",
    "echo $(date) > EMPTY.txt\n",
    "cat EMPTY.txt"
   ]
  },
  {
   "cell_type": "markdown",
   "id": "992ca8d1-5eb5-4b8a-8cc8-32dcdc78b50e",
   "metadata": {},
   "source": [
    "Why did it do this? The `>` operator __always__ creates a brand new file, so it will write over your existing `EMPTY.txt` file. If you want to __add__ to a file, always use the `>>` command. If the file doesn't exist when you use `>>`, it will create it  for you.\n",
    "\n",
    "__TASK:__ Fix the code block above so that both lines are written to the file. The resulting file should only have the two lines.\n",
    "\n",
    "__TASK:__ We want to set up a file that will load every time you open up your bash terminal (we haven't done that but we will get there). We want to create a file called `~/.bash_profile` that contains two lines:\n",
    "\n",
    "```bash\n",
    "source ~/.bashrc\n",
    "DATA=/local-scratch/course_files/MBB243/\n",
    "```\n",
    "\n",
    "__Hint:__ Use the `echo` command on the left side, and the filename `~/.bash_profile` on the right side. Be specific as to whether you use `>` or `>>` with each line. Write your code in the code block below and run it. Check the output using the `cat` command on the new file you have created."
   ]
  },
  {
   "cell_type": "code",
   "execution_count": null,
   "id": "f787b65c-eb74-4f4e-a355-96000875b541",
   "metadata": {},
   "outputs": [],
   "source": [
    "# Write your code here\n",
    "\n"
   ]
  },
  {
   "cell_type": "markdown",
   "id": "154dd637-c816-4327-8298-dd77fa2cd2f9",
   "metadata": {},
   "source": [
    "### Part 3 - Let's go into the real world and do a little treasure hunt!\n",
    "\n",
    "So far, we have learned about a few bash commands that are going to make our lives easier when it comes to later labs. However, we have been using the notebook, which isn't really how we would do it in the real world. What we would normally do is use the command line: something we are going to do now.\n",
    "\n",
    "In the top menu bar, click __File__ then choose __New Launcher__. This provides us with access to all of the other good stuff on this server. What we are interested in is found on the bottom of the launcher page: the __Terminal__. Click on the icon shown below to open it up in a new window.\n",
    "\n",
    "\n",
    "![terminal](mbb110/lab01/03_terminal.png)\n",
    "\n",
    "When you click to the new window, you will see a prompt with a flashing cursor. This is your command line. The flashing cursor is waiting for you to enter commands. Here's what it might look like:\n",
    "\n",
    "![cmd](mbb110/lab01/04_cmd.png)\n",
    "\n",
    "What is the prompt telling you? You will notice that the first part is your computing ID. The `@` symbol is separating your userid from the server that you are currently on. Mine says that I am working on the `mbb-test` server. Then, after a space, it shows `~`. Do you remember what this means? We talked about it earlier. This part of the prompt will always show you what folder you are currently working within. Keep this in mind, as being in the wrong folder is often the cause of many problems in our labs.\n",
    "\n",
    "__TASK:__ Every command that we have practiced in this notebook can be performed on the command line. Try a few things out:\n",
    "- print your current working directory\n",
    "- list the files in your current directory\n",
    "- change into a subfolder (such as `mbb110`, `lab01` or `folder01` depending on where you are in the file system)\n",
    "- echo some commands to a file\n",
    "\n",
    "Remember that you can switch back to this page for reference.\n",
    "\n",
    "#### What's this about a treasure hunt?\n",
    "\n",
    "As an optional task, I have included a little game that will test your skills in navigating the file system in bash. First, you must understand a couple more concepts that will come in handy:\n",
    "\n",
    "To execute (run) a file in bash, you need to use the `./filename` command. You may find executable files within the game that you need to run, that might offer you some kind of reward. You may wish to run these using the code:\n",
    "\n",
    "```bash\n",
    "./treasure\n",
    "```\n",
    "\n",
    "and then follow the instructions to collect your wealth.\n",
    "\n",
    "You will also recieve instructions on how to save your wealth and health points to variables that you can access throughout the minigame. Don't worry too much about what a variable is right now, but for reference, it is simply an identifier that points to a value. You will be asked to use commands such as `EXPORT` to put values into variables. You can find out the contents of any variable using the following code:\n",
    "\n",
    "```bash\n",
    "echo $VARIABLE\n",
    "```\n",
    "\n",
    "In this game, your inventory is stored in a variable called I, and your health in a variable called HP. In your __Terminal__ window (not this window) you can find out your current inventory and health info using the following commands:\n",
    "\n",
    "```bash\n",
    "echo $I\n",
    "echo $HP\n",
    "```\n",
    "\n",
    "To start the game, navigate in the __Terminal__ window to `~/mbb110/lab01/entrance` and read the scroll that you find there. \n",
    "\n",
    "Play the game for as long or as little as you like until you get a feel for working with bash on the command line. Once you are finished, run the above commands in your __Terminal__ and paste them into the Markdown block below. I will create a leaderboard and post it on Canvas to show the results."
   ]
  },
  {
   "cell_type": "markdown",
   "id": "ea528833-74be-4e71-b1a3-b471ee2e170f",
   "metadata": {
    "tags": []
   },
   "source": [
    "Your final stats:\n",
    "\n"
   ]
  }
 ],
 "metadata": {
  "kernelspec": {
   "display_name": "Bash",
   "language": "bash",
   "name": "bash"
  },
  "language_info": {
   "codemirror_mode": "shell",
   "file_extension": ".sh",
   "mimetype": "text/x-sh",
   "name": "bash"
  }
 },
 "nbformat": 4,
 "nbformat_minor": 5
}
